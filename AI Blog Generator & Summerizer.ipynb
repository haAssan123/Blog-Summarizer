{
 "cells": [
  {
   "cell_type": "code",
   "execution_count": 1,
   "id": "30df3964",
   "metadata": {},
   "outputs": [],
   "source": [
    "from transformers import GPT2LMHeadModel, GPT2Tokenizer\n",
    "from transformers import pipeline\n",
    "from bs4 import BeautifulSoup\n",
    "import requests\n",
    "from urllib.parse import urlparse\n",
    "import warnings\n",
    "warnings.filterwarnings('ignore')"
   ]
  },
  {
   "cell_type": "code",
   "execution_count": 2,
   "id": "c078925d",
   "metadata": {
    "scrolled": true
   },
   "outputs": [
    {
     "name": "stderr",
     "output_type": "stream",
     "text": [
      "No model was supplied, defaulted to sshleifer/distilbart-cnn-12-6 and revision a4f8f3e (https://huggingface.co/sshleifer/distilbart-cnn-12-6).\n",
      "Using a pipeline without specifying a model name and revision in production is not recommended.\n"
     ]
    }
   ],
   "source": [
    "tokenizer = GPT2Tokenizer.from_pretrained(\"gpt2\")\n",
    "model = GPT2LMHeadModel.from_pretrained(\"gpt2\", pad_token_id = tokenizer.eos_token_id)\n",
    "summarizer = pipeline('summarization')"
   ]
  },
  {
   "cell_type": "code",
   "execution_count": 3,
   "id": "151874ab",
   "metadata": {},
   "outputs": [],
   "source": [
    "post =\"https://www.programiz.com/dsa/dynamic-programming\" \n",
    "r =requests.get(post)"
   ]
  },
  {
   "cell_type": "code",
   "execution_count": 4,
   "id": "ef71b287",
   "metadata": {},
   "outputs": [],
   "source": [
    "soup = BeautifulSoup(r.text, 'html.parser')\n",
    "res = soup.find_all(['h1', 'p'])"
   ]
  },
  {
   "cell_type": "code",
   "execution_count": 5,
   "id": "2307c23d",
   "metadata": {
    "scrolled": true
   },
   "outputs": [],
   "source": [
    "text = [result.text for result in res]\n",
    "artical = ' '.join(text)"
   ]
  },
  {
   "cell_type": "code",
   "execution_count": 6,
   "id": "d6dd549e",
   "metadata": {},
   "outputs": [],
   "source": [
    "artical = artical.replace('.', '.<eos>')\n",
    "artical = artical.replace('!', '!<eos>')\n",
    "artical = artical.replace('?', '?<eos>')\n",
    "sentences = artical.split('<eos>')"
   ]
  },
  {
   "cell_type": "code",
   "execution_count": 8,
   "id": "7decb4ea",
   "metadata": {},
   "outputs": [
    {
     "name": "stdout",
     "output_type": "stream",
     "text": [
      "0\n"
     ]
    }
   ],
   "source": [
    "max_chunk = 500\n",
    "current_chunk = 0 #chunk cunter initializer\n",
    "chunks = [] #words\n",
    "for sentence in sentences:\n",
    "    if len(chunks) == current_chunk + 1: \n",
    "        if len(chunks[current_chunk]) + len(sentence.split(' ')) <= max_chunk:\n",
    "            chunks[current_chunk].extend(sentence.split(' '))\n",
    "        else:\n",
    "            current_chunk += 1\n",
    "            chunks.append(sentence.split(' '))\n",
    "    else:\n",
    "        chunks.append(sentence.split(' '))\n",
    "\n",
    "for chunk_id in range(len(chunks)):\n",
    "    chunks[chunk_id] = ' '.join(chunks[chunk_id])"
   ]
  },
  {
   "cell_type": "code",
   "execution_count": 14,
   "id": "46f67f83",
   "metadata": {},
   "outputs": [],
   "source": [
    "summarrize = summarizer(chunks, max_length=120, min_length=30, do_sample=False)"
   ]
  },
  {
   "cell_type": "code",
   "execution_count": 16,
   "id": "65b08dc9",
   "metadata": {},
   "outputs": [],
   "source": [
    "text = ' '.join([summ['summary_text'] for summ in summarrize])"
   ]
  },
  {
   "cell_type": "code",
   "execution_count": 19,
   "id": "2a0dd902",
   "metadata": {},
   "outputs": [
    {
     "data": {
      "text/plain": [
       "' Dynamic Programming is a technique in computer programming that helps to efficiently solve a class of problems that have overlapping subproblems and optimal substructure property . This method of solving a solution is referred to as dynamic programming . Greedy Algorithms are similar to dynamic programming in the sense that they are both tools for optimization .  Dynamic programming, on the other hand, finds the optimal solution to subproblems . However, greedy algorithms look for locally optimum solutions or in other words, a greedy choice, in the hopes of finding a global optimum .'"
      ]
     },
     "execution_count": 19,
     "metadata": {},
     "output_type": "execute_result"
    }
   ],
   "source": [
    "text"
   ]
  },
  {
   "cell_type": "code",
   "execution_count": null,
   "id": "996c8734",
   "metadata": {},
   "outputs": [],
   "source": []
  }
 ],
 "metadata": {
  "kernelspec": {
   "display_name": "Python 3 (ipykernel)",
   "language": "python",
   "name": "python3"
  },
  "language_info": {
   "codemirror_mode": {
    "name": "ipython",
    "version": 3
   },
   "file_extension": ".py",
   "mimetype": "text/x-python",
   "name": "python",
   "nbconvert_exporter": "python",
   "pygments_lexer": "ipython3",
   "version": "3.9.12"
  }
 },
 "nbformat": 4,
 "nbformat_minor": 5
}
